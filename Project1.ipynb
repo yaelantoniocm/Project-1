{
 "cells": [
  {
   "cell_type": "code",
   "execution_count": null,
   "metadata": {},
   "outputs": [],
   "source": [
    "# Dependencies and Setup\n",
    "import hvplot.pandas\n",
    "import matplotlib.pyplot as plt\n",
    "import pandas as pd\n",
    "import requests\n",
    "import numpy as np\n",
    "import requests\n",
    "import time\n",
    "import scipy.stats as st\n",
    "\n",
    "# Data files\n",
    "most_sleep_metadata_path = \"Resources/MostSleep.csv\"\n",
    "lif_quality_path = \"Resources/life_quality_and_health_by_country.csv\"\n",
    "\n",
    "# Read the mouse data and the study results\n",
    "most_sleep_metadata = pd.read_csv(most_sleep_metadata_path)\n",
    "study_results = pd.read_csv(lif_quality_path)\n",
    "\n",
    "# Combine the data into a single DataFrame with the Country column as the key\n",
    "#sleep_study_data = pd.merge(most_sleep_metadata, study_results, how=\"left\", on=[\"Country\", \"Country\"])\n",
    "sleep_study_data = pd.merge(most_sleep_metadata, study_results, on=[\"Country\"])\n",
    "\n",
    "sleep_study_data"
   ]
  }
 ],
 "metadata": {
  "language_info": {
   "name": "python"
  },
  "orig_nbformat": 4
 },
 "nbformat": 4,
 "nbformat_minor": 2
}
